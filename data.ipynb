{
 "cells": [
  {
   "cell_type": "code",
   "execution_count": 1,
   "metadata": {},
   "outputs": [],
   "source": [
    "import os\n",
    "import shutil\n",
    "import pandas as pd\n",
    "import csv"
   ]
  },
  {
   "cell_type": "code",
   "execution_count": 2,
   "metadata": {},
   "outputs": [],
   "source": [
    "df = pd.read_csv('result.csv')"
   ]
  },
  {
   "cell_type": "code",
   "execution_count": 3,
   "metadata": {},
   "outputs": [
    {
     "data": {
      "text/html": [
       "<div>\n",
       "<style scoped>\n",
       "    .dataframe tbody tr th:only-of-type {\n",
       "        vertical-align: middle;\n",
       "    }\n",
       "\n",
       "    .dataframe tbody tr th {\n",
       "        vertical-align: top;\n",
       "    }\n",
       "\n",
       "    .dataframe thead th {\n",
       "        text-align: right;\n",
       "    }\n",
       "</style>\n",
       "<table border=\"1\" class=\"dataframe\">\n",
       "  <thead>\n",
       "    <tr style=\"text-align: right;\">\n",
       "      <th></th>\n",
       "      <th>TaskID</th>\n",
       "      <th>Estimate_label</th>\n",
       "    </tr>\n",
       "  </thead>\n",
       "  <tbody>\n",
       "    <tr>\n",
       "      <th>0</th>\n",
       "      <td>3FHTJGYT8O3UOD4PWT98LA31EHDPG3</td>\n",
       "      <td>fear</td>\n",
       "    </tr>\n",
       "    <tr>\n",
       "      <th>1</th>\n",
       "      <td>3H5TOKO3DAM62RT0MW8Y6LFHT7F46Q</td>\n",
       "      <td>surprise</td>\n",
       "    </tr>\n",
       "    <tr>\n",
       "      <th>2</th>\n",
       "      <td>306996CF6XNVG4DCV564J3U6VOG1BV</td>\n",
       "      <td>surprise</td>\n",
       "    </tr>\n",
       "    <tr>\n",
       "      <th>3</th>\n",
       "      <td>3PEG1BH7AFUXM5ZY3FCMOIQ54UFKBG</td>\n",
       "      <td>neutral</td>\n",
       "    </tr>\n",
       "    <tr>\n",
       "      <th>4</th>\n",
       "      <td>3PMR2DOWOP4AJNTMHDYTEF1HXC445A</td>\n",
       "      <td>disgust</td>\n",
       "    </tr>\n",
       "  </tbody>\n",
       "</table>\n",
       "</div>"
      ],
      "text/plain": [
       "                           TaskID Estimate_label\n",
       "0  3FHTJGYT8O3UOD4PWT98LA31EHDPG3           fear\n",
       "1  3H5TOKO3DAM62RT0MW8Y6LFHT7F46Q       surprise\n",
       "2  306996CF6XNVG4DCV564J3U6VOG1BV       surprise\n",
       "3  3PEG1BH7AFUXM5ZY3FCMOIQ54UFKBG        neutral\n",
       "4  3PMR2DOWOP4AJNTMHDYTEF1HXC445A        disgust"
      ]
     },
     "execution_count": 3,
     "metadata": {},
     "output_type": "execute_result"
    }
   ],
   "source": [
    "df.head()"
   ]
  },
  {
   "cell_type": "code",
   "execution_count": 7,
   "metadata": {},
   "outputs": [],
   "source": [
    "csv_file = open(\"./Batch_4350992_batch_results.csv\", \"r\", encoding=\"ms932\", errors=\"\", newline=\"\" )\n",
    "f = csv.DictReader(csv_file)\n",
    "image = []\n",
    "for task in df['TaskID']:\n",
    "    for row in f:\n",
    "        if task == row['HITId']:\n",
    "            image_url = row['Input.image_url'].split('s1811552/')[1]\n",
    "            image.append(image_url)\n",
    "            break"
   ]
  },
  {
   "cell_type": "code",
   "execution_count": 8,
   "metadata": {},
   "outputs": [],
   "source": [
    "df['image'] = image"
   ]
  },
  {
   "cell_type": "code",
   "execution_count": 10,
   "metadata": {},
   "outputs": [
    {
     "data": {
      "text/html": [
       "<div>\n",
       "<style scoped>\n",
       "    .dataframe tbody tr th:only-of-type {\n",
       "        vertical-align: middle;\n",
       "    }\n",
       "\n",
       "    .dataframe tbody tr th {\n",
       "        vertical-align: top;\n",
       "    }\n",
       "\n",
       "    .dataframe thead th {\n",
       "        text-align: right;\n",
       "    }\n",
       "</style>\n",
       "<table border=\"1\" class=\"dataframe\">\n",
       "  <thead>\n",
       "    <tr style=\"text-align: right;\">\n",
       "      <th></th>\n",
       "      <th>TaskID</th>\n",
       "      <th>Estimate_label</th>\n",
       "      <th>image</th>\n",
       "    </tr>\n",
       "  </thead>\n",
       "  <tbody>\n",
       "    <tr>\n",
       "      <th>0</th>\n",
       "      <td>3FHTJGYT8O3UOD4PWT98LA31EHDPG3</td>\n",
       "      <td>fear</td>\n",
       "      <td>results/surprise/surprise_79.jpg</td>\n",
       "    </tr>\n",
       "    <tr>\n",
       "      <th>1</th>\n",
       "      <td>3H5TOKO3DAM62RT0MW8Y6LFHT7F46Q</td>\n",
       "      <td>surprise</td>\n",
       "      <td>results/surprise/surprise_46.jpg</td>\n",
       "    </tr>\n",
       "    <tr>\n",
       "      <th>2</th>\n",
       "      <td>306996CF6XNVG4DCV564J3U6VOG1BV</td>\n",
       "      <td>surprise</td>\n",
       "      <td>results/fear/fear_55.jpg</td>\n",
       "    </tr>\n",
       "    <tr>\n",
       "      <th>3</th>\n",
       "      <td>3PEG1BH7AFUXM5ZY3FCMOIQ54UFKBG</td>\n",
       "      <td>neutral</td>\n",
       "      <td>results/fear/fear_47.jpg</td>\n",
       "    </tr>\n",
       "    <tr>\n",
       "      <th>4</th>\n",
       "      <td>3PMR2DOWOP4AJNTMHDYTEF1HXC445A</td>\n",
       "      <td>disgust</td>\n",
       "      <td>results/sad/sad_11.jpg</td>\n",
       "    </tr>\n",
       "    <tr>\n",
       "      <th>5</th>\n",
       "      <td>3G4VVJO6P0JZQZ08MKUNJ2VULYUPK6</td>\n",
       "      <td>surprise</td>\n",
       "      <td>results/surprise/surprise_82.jpg</td>\n",
       "    </tr>\n",
       "    <tr>\n",
       "      <th>6</th>\n",
       "      <td>32ZCLEW0B0N4FFUQ4ZUBINVH69UPJ7</td>\n",
       "      <td>neutral</td>\n",
       "      <td>results/surprise/surprise_83.jpg</td>\n",
       "    </tr>\n",
       "    <tr>\n",
       "      <th>7</th>\n",
       "      <td>3Y3N5A7N4HCOP1SCYJ3MB6GAE8SMY2</td>\n",
       "      <td>sad</td>\n",
       "      <td>results/sad/sad_83.jpg</td>\n",
       "    </tr>\n",
       "    <tr>\n",
       "      <th>8</th>\n",
       "      <td>3B9J25CZ26GEKT4CMOHJQONX39SSCC</td>\n",
       "      <td>happy</td>\n",
       "      <td>results/neutral/neutral_75.jpg</td>\n",
       "    </tr>\n",
       "    <tr>\n",
       "      <th>9</th>\n",
       "      <td>3XU80RHWH0JSN4PM38FJ9NV3XG9445</td>\n",
       "      <td>sad</td>\n",
       "      <td>results/sad/sad_68.jpg</td>\n",
       "    </tr>\n",
       "  </tbody>\n",
       "</table>\n",
       "</div>"
      ],
      "text/plain": [
       "                           TaskID Estimate_label  \\\n",
       "0  3FHTJGYT8O3UOD4PWT98LA31EHDPG3           fear   \n",
       "1  3H5TOKO3DAM62RT0MW8Y6LFHT7F46Q       surprise   \n",
       "2  306996CF6XNVG4DCV564J3U6VOG1BV       surprise   \n",
       "3  3PEG1BH7AFUXM5ZY3FCMOIQ54UFKBG        neutral   \n",
       "4  3PMR2DOWOP4AJNTMHDYTEF1HXC445A        disgust   \n",
       "5  3G4VVJO6P0JZQZ08MKUNJ2VULYUPK6       surprise   \n",
       "6  32ZCLEW0B0N4FFUQ4ZUBINVH69UPJ7        neutral   \n",
       "7  3Y3N5A7N4HCOP1SCYJ3MB6GAE8SMY2            sad   \n",
       "8  3B9J25CZ26GEKT4CMOHJQONX39SSCC          happy   \n",
       "9  3XU80RHWH0JSN4PM38FJ9NV3XG9445            sad   \n",
       "\n",
       "                              image  \n",
       "0  results/surprise/surprise_79.jpg  \n",
       "1  results/surprise/surprise_46.jpg  \n",
       "2          results/fear/fear_55.jpg  \n",
       "3          results/fear/fear_47.jpg  \n",
       "4            results/sad/sad_11.jpg  \n",
       "5  results/surprise/surprise_82.jpg  \n",
       "6  results/surprise/surprise_83.jpg  \n",
       "7            results/sad/sad_83.jpg  \n",
       "8    results/neutral/neutral_75.jpg  \n",
       "9            results/sad/sad_68.jpg  "
      ]
     },
     "execution_count": 10,
     "metadata": {},
     "output_type": "execute_result"
    }
   ],
   "source": [
    "df.head(10)"
   ]
  },
  {
   "cell_type": "code",
   "execution_count": 13,
   "metadata": {},
   "outputs": [],
   "source": [
    "sub_dir = ['angry', 'disgust', 'fear', 'happy', 'neutral', 'sad', 'surprise']\n",
    "\n",
    "result_dir = './data'\n",
    "result_subdir = './data/'\n",
    "if not os.path.exists(result_dir):\n",
    "    os.mkdir(result_dir)\n",
    "    for i in range(len(sub_dir)):\n",
    "        os.mkdir(result_subdir + '/' + sub_dir[i])"
   ]
  },
  {
   "cell_type": "code",
   "execution_count": 16,
   "metadata": {},
   "outputs": [],
   "source": [
    "for label, uri in zip(df['Estimate_label'], df['image']):\n",
    "    image_name = uri.split('/')[2]\n",
    "    old_dir = './' + uri\n",
    "    estimated_dir = './data/' + label + '/' \n",
    "    shutil.copyfile(old_dir, estimated_dir+image_name)"
   ]
  },
  {
   "cell_type": "code",
   "execution_count": 17,
   "metadata": {
    "scrolled": true
   },
   "outputs": [
    {
     "name": "stdout",
     "output_type": "stream",
     "text": [
      "angry 88\n",
      "disgust 40\n",
      "fear 33\n",
      "happy 146\n",
      "neutral 153\n",
      "sad 168\n",
      "surprise 72\n"
     ]
    }
   ],
   "source": [
    "for dir_name in sub_dir:\n",
    "    target_dir = './data/' + dir_name\n",
    "    fltr_list = [filename for filename in os.listdir(target_dir) if not filename.startswith('.')]\n",
    "    print(dir_name, len(fltr_list))"
   ]
  },
  {
   "cell_type": "code",
   "execution_count": null,
   "metadata": {},
   "outputs": [],
   "source": []
  }
 ],
 "metadata": {
  "kernelspec": {
   "display_name": "Python 3",
   "language": "python",
   "name": "python3"
  },
  "language_info": {
   "codemirror_mode": {
    "name": "ipython",
    "version": 3
   },
   "file_extension": ".py",
   "mimetype": "text/x-python",
   "name": "python",
   "nbconvert_exporter": "python",
   "pygments_lexer": "ipython3",
   "version": "3.7.9"
  }
 },
 "nbformat": 4,
 "nbformat_minor": 4
}
