{
 "cells": [
  {
   "cell_type": "code",
   "execution_count": 1,
   "metadata": {},
   "outputs": [],
   "source": [
    "import os\n",
    "import shutil\n",
    "import pandas as pd\n",
    "import csv"
   ]
  },
  {
   "cell_type": "code",
   "execution_count": 2,
   "metadata": {},
   "outputs": [],
   "source": [
    "# df = pd.read_csv('result.csv')\n",
    "df = pd.read_csv('result2.csv')"
   ]
  },
  {
   "cell_type": "code",
   "execution_count": 3,
   "metadata": {},
   "outputs": [
    {
     "data": {
      "text/html": [
       "<div>\n",
       "<style scoped>\n",
       "    .dataframe tbody tr th:only-of-type {\n",
       "        vertical-align: middle;\n",
       "    }\n",
       "\n",
       "    .dataframe tbody tr th {\n",
       "        vertical-align: top;\n",
       "    }\n",
       "\n",
       "    .dataframe thead th {\n",
       "        text-align: right;\n",
       "    }\n",
       "</style>\n",
       "<table border=\"1\" class=\"dataframe\">\n",
       "  <thead>\n",
       "    <tr style=\"text-align: right;\">\n",
       "      <th></th>\n",
       "      <th>TaskID</th>\n",
       "      <th>Estimate_label</th>\n",
       "    </tr>\n",
       "  </thead>\n",
       "  <tbody>\n",
       "    <tr>\n",
       "      <th>0</th>\n",
       "      <td>302U8RURJ04D3PI759V2HM1G13KNVM</td>\n",
       "      <td>disgust</td>\n",
       "    </tr>\n",
       "    <tr>\n",
       "      <th>1</th>\n",
       "      <td>302U8RURJ04D3PI759V2HM1G13KVNU</td>\n",
       "      <td>angry</td>\n",
       "    </tr>\n",
       "    <tr>\n",
       "      <th>2</th>\n",
       "      <td>304QEQWKZQNFS9H33R7QBIBVXHCO0A</td>\n",
       "      <td>fear</td>\n",
       "    </tr>\n",
       "    <tr>\n",
       "      <th>3</th>\n",
       "      <td>304QEQWKZQNFS9H33R7QBIBVXHD0ON</td>\n",
       "      <td>disgust</td>\n",
       "    </tr>\n",
       "    <tr>\n",
       "      <th>4</th>\n",
       "      <td>306996CF6XNVG4DCV564J3U6VA01BN</td>\n",
       "      <td>happy</td>\n",
       "    </tr>\n",
       "  </tbody>\n",
       "</table>\n",
       "</div>"
      ],
      "text/plain": [
       "                           TaskID Estimate_label\n",
       "0  302U8RURJ04D3PI759V2HM1G13KNVM        disgust\n",
       "1  302U8RURJ04D3PI759V2HM1G13KVNU          angry\n",
       "2  304QEQWKZQNFS9H33R7QBIBVXHCO0A           fear\n",
       "3  304QEQWKZQNFS9H33R7QBIBVXHD0ON        disgust\n",
       "4  306996CF6XNVG4DCV564J3U6VA01BN          happy"
      ]
     },
     "execution_count": 3,
     "metadata": {},
     "output_type": "execute_result"
    }
   ],
   "source": [
    "df.head()"
   ]
  },
  {
   "cell_type": "code",
   "execution_count": 4,
   "metadata": {},
   "outputs": [],
   "source": [
    "csv_file = open(\"./Batch_4369243_batch_results.csv\", \"r\", encoding=\"ms932\", errors=\"\", newline=\"\" )\n",
    "f = csv.DictReader(csv_file)\n",
    "image = []\n",
    "for task in df['TaskID']:\n",
    "    for row in f:\n",
    "        if task == row['HITId']:\n",
    "            image_url = row['Input.image_url'].split('s1811552/')[1]\n",
    "            image.append(image_url)\n",
    "            break"
   ]
  },
  {
   "cell_type": "code",
   "execution_count": 5,
   "metadata": {},
   "outputs": [],
   "source": [
    "df['image'] = image"
   ]
  },
  {
   "cell_type": "code",
   "execution_count": 6,
   "metadata": {},
   "outputs": [
    {
     "data": {
      "text/html": [
       "<div>\n",
       "<style scoped>\n",
       "    .dataframe tbody tr th:only-of-type {\n",
       "        vertical-align: middle;\n",
       "    }\n",
       "\n",
       "    .dataframe tbody tr th {\n",
       "        vertical-align: top;\n",
       "    }\n",
       "\n",
       "    .dataframe thead th {\n",
       "        text-align: right;\n",
       "    }\n",
       "</style>\n",
       "<table border=\"1\" class=\"dataframe\">\n",
       "  <thead>\n",
       "    <tr style=\"text-align: right;\">\n",
       "      <th></th>\n",
       "      <th>TaskID</th>\n",
       "      <th>Estimate_label</th>\n",
       "      <th>image</th>\n",
       "    </tr>\n",
       "  </thead>\n",
       "  <tbody>\n",
       "    <tr>\n",
       "      <th>0</th>\n",
       "      <td>302U8RURJ04D3PI759V2HM1G13KNVM</td>\n",
       "      <td>disgust</td>\n",
       "      <td>results/disgust/disgust_27.jpg</td>\n",
       "    </tr>\n",
       "    <tr>\n",
       "      <th>1</th>\n",
       "      <td>302U8RURJ04D3PI759V2HM1G13KVNU</td>\n",
       "      <td>angry</td>\n",
       "      <td>results/angry/angry_72.jpg</td>\n",
       "    </tr>\n",
       "    <tr>\n",
       "      <th>2</th>\n",
       "      <td>304QEQWKZQNFS9H33R7QBIBVXHCO0A</td>\n",
       "      <td>fear</td>\n",
       "      <td>results/fear/fear_90.jpg</td>\n",
       "    </tr>\n",
       "    <tr>\n",
       "      <th>3</th>\n",
       "      <td>304QEQWKZQNFS9H33R7QBIBVXHD0ON</td>\n",
       "      <td>disgust</td>\n",
       "      <td>results/sad/sad_86.jpg</td>\n",
       "    </tr>\n",
       "    <tr>\n",
       "      <th>4</th>\n",
       "      <td>306996CF6XNVG4DCV564J3U6VA01BN</td>\n",
       "      <td>happy</td>\n",
       "      <td>results/happy/happy_12.jpg</td>\n",
       "    </tr>\n",
       "    <tr>\n",
       "      <th>5</th>\n",
       "      <td>306996CF6XNVG4DCV564J3U6VA0B1X</td>\n",
       "      <td>neutral</td>\n",
       "      <td>results/neutral/neutral_84.jpg</td>\n",
       "    </tr>\n",
       "    <tr>\n",
       "      <th>6</th>\n",
       "      <td>306W7JMRYZ1DR4XXUQFJYDHE9G68BE</td>\n",
       "      <td>angry</td>\n",
       "      <td>results/angry/angry_31.jpg</td>\n",
       "    </tr>\n",
       "    <tr>\n",
       "      <th>7</th>\n",
       "      <td>306W7JMRYZ1DR4XXUQFJYDHE9G6B8H</td>\n",
       "      <td>neutral</td>\n",
       "      <td>results/sad/sad_64.jpg</td>\n",
       "    </tr>\n",
       "    <tr>\n",
       "      <th>8</th>\n",
       "      <td>307FVKVSYSIP6R7556DQCZFDO4J74K</td>\n",
       "      <td>sad</td>\n",
       "      <td>results/sad/sad_36.jpg</td>\n",
       "    </tr>\n",
       "    <tr>\n",
       "      <th>9</th>\n",
       "      <td>307L9TDWJZVTRGGOLZPWYR9XAJS3N6</td>\n",
       "      <td>surprise</td>\n",
       "      <td>results/surprise/surprise_32.jpg</td>\n",
       "    </tr>\n",
       "  </tbody>\n",
       "</table>\n",
       "</div>"
      ],
      "text/plain": [
       "                           TaskID Estimate_label  \\\n",
       "0  302U8RURJ04D3PI759V2HM1G13KNVM        disgust   \n",
       "1  302U8RURJ04D3PI759V2HM1G13KVNU          angry   \n",
       "2  304QEQWKZQNFS9H33R7QBIBVXHCO0A           fear   \n",
       "3  304QEQWKZQNFS9H33R7QBIBVXHD0ON        disgust   \n",
       "4  306996CF6XNVG4DCV564J3U6VA01BN          happy   \n",
       "5  306996CF6XNVG4DCV564J3U6VA0B1X        neutral   \n",
       "6  306W7JMRYZ1DR4XXUQFJYDHE9G68BE          angry   \n",
       "7  306W7JMRYZ1DR4XXUQFJYDHE9G6B8H        neutral   \n",
       "8  307FVKVSYSIP6R7556DQCZFDO4J74K            sad   \n",
       "9  307L9TDWJZVTRGGOLZPWYR9XAJS3N6       surprise   \n",
       "\n",
       "                              image  \n",
       "0    results/disgust/disgust_27.jpg  \n",
       "1        results/angry/angry_72.jpg  \n",
       "2          results/fear/fear_90.jpg  \n",
       "3            results/sad/sad_86.jpg  \n",
       "4        results/happy/happy_12.jpg  \n",
       "5    results/neutral/neutral_84.jpg  \n",
       "6        results/angry/angry_31.jpg  \n",
       "7            results/sad/sad_64.jpg  \n",
       "8            results/sad/sad_36.jpg  \n",
       "9  results/surprise/surprise_32.jpg  "
      ]
     },
     "execution_count": 6,
     "metadata": {},
     "output_type": "execute_result"
    }
   ],
   "source": [
    "df.head(10)"
   ]
  },
  {
   "cell_type": "code",
   "execution_count": 7,
   "metadata": {},
   "outputs": [],
   "source": [
    "sub_dir = ['angry', 'disgust', 'fear', 'happy', 'neutral', 'sad', 'surprise']\n",
    "\n",
    "result_dir = './data2'\n",
    "result_subdir = './data2/'\n",
    "if not os.path.exists(result_dir):\n",
    "    os.mkdir(result_dir)\n",
    "    for i in range(len(sub_dir)):\n",
    "        os.mkdir(result_subdir + '/' + sub_dir[i])"
   ]
  },
  {
   "cell_type": "code",
   "execution_count": 8,
   "metadata": {},
   "outputs": [],
   "source": [
    "for label, uri in zip(df['Estimate_label'], df['image']):\n",
    "    image_name = uri.split('/')[2]\n",
    "    old_dir = './' + uri\n",
    "    estimated_dir = './data2/' + label + '/' \n",
    "    shutil.copyfile(old_dir, estimated_dir+image_name)"
   ]
  },
  {
   "cell_type": "code",
   "execution_count": 9,
   "metadata": {
    "scrolled": true
   },
   "outputs": [
    {
     "name": "stdout",
     "output_type": "stream",
     "text": [
      "angry 87\n",
      "disgust 65\n",
      "fear 74\n",
      "happy 142\n",
      "neutral 127\n",
      "sad 118\n",
      "surprise 87\n"
     ]
    }
   ],
   "source": [
    "for dir_name in sub_dir:\n",
    "    target_dir = './data2/' + dir_name\n",
    "    fltr_list = [filename for filename in os.listdir(target_dir) if not filename.startswith('.')]\n",
    "    print(dir_name, len(fltr_list))"
   ]
  },
  {
   "cell_type": "code",
   "execution_count": null,
   "metadata": {},
   "outputs": [],
   "source": []
  }
 ],
 "metadata": {
  "kernelspec": {
   "display_name": "Python 3",
   "language": "python",
   "name": "python3"
  },
  "language_info": {
   "codemirror_mode": {
    "name": "ipython",
    "version": 3
   },
   "file_extension": ".py",
   "mimetype": "text/x-python",
   "name": "python",
   "nbconvert_exporter": "python",
   "pygments_lexer": "ipython3",
   "version": "3.7.9"
  }
 },
 "nbformat": 4,
 "nbformat_minor": 4
}
