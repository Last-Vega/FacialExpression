{
 "cells": [
  {
   "cell_type": "code",
   "execution_count": 1,
   "metadata": {},
   "outputs": [
    {
     "name": "stderr",
     "output_type": "stream",
     "text": [
      "Using TensorFlow backend.\n"
     ]
    }
   ],
   "source": [
    "import os\n",
    "from keras.applications.vgg16 import VGG16\n",
    "from keras.preprocessing.image import ImageDataGenerator\n",
    "from keras.models import Sequential, Model\n",
    "from keras.layers import Input, Activation, Dropout, Flatten, Dense\n",
    "from keras.preprocessing.image import ImageDataGenerator\n",
    "from keras import optimizers\n",
    "import numpy as np\n",
    "\n",
    "os.environ['KMP_DUPLICATE_LIB_OK']='TRUE'\n",
    "os.environ[\"CUDA_VISIBLE_DEVICES\"]=\"0\""
   ]
  },
  {
   "cell_type": "code",
   "execution_count": 2,
   "metadata": {},
   "outputs": [],
   "source": [
    "# 分類するクラス\n",
    "classes = ['angry', 'disgust', 'fear', 'happy', 'neutral', 'sad', 'surprise']\n",
    "\n",
    "nb_classes = len(classes)\n",
    "\n",
    "img_width, img_height = 48, 48\n",
    "\n",
    "# トレーニング用とバリデーション用の画像格納先\n",
    "train_data_dir = './data/train'\n",
    "validation_data_dir = './data/validation'\n",
    "\n",
    "\n",
    "nb_train_samples = 700\n",
    "nb_validation_samples = 210\n",
    "\n",
    "batch_size = 32\n",
    "nb_epoch = 60"
   ]
  },
  {
   "cell_type": "code",
   "execution_count": 3,
   "metadata": {},
   "outputs": [],
   "source": [
    "def vgg_model_maker():\n",
    "    \"\"\" VGG16のモデルをFC層以外使用。FC層のみ作成して結合して用意する \"\"\"\n",
    "\n",
    "    # VGG16のロード。FC層は不要なので include_top=False\n",
    "    input_tensor = Input(shape=(img_width, img_height, 3))\n",
    "    vgg16 = VGG16(include_top=False, weights='imagenet', input_tensor=input_tensor)\n",
    "\n",
    "    # FC層の作成\n",
    "    top_model = Sequential()\n",
    "    top_model.add(Flatten(input_shape=vgg16.output_shape[1:]))\n",
    "    top_model.add(Dense(256, activation='relu'))\n",
    "    top_model.add(Dropout(0.5))\n",
    "    top_model.add(Dense(nb_classes, activation='softmax'))\n",
    "\n",
    "    # VGG16とFC層を結合してモデルを作成\n",
    "    model = Model(inputs=vgg16.input, outputs=top_model(vgg16.output))\n",
    "\n",
    "    return model"
   ]
  },
  {
   "cell_type": "code",
   "execution_count": 4,
   "metadata": {},
   "outputs": [],
   "source": [
    "def image_generator():\n",
    "    \"\"\" ディレクトリ内の画像を読み込んでトレーニングデータとバリデーションデータの作成 \"\"\"\n",
    "    train_datagen = ImageDataGenerator(\n",
    "        rescale=1.0 / 255,\n",
    "        zoom_range=0.2,\n",
    "        horizontal_flip=True)\n",
    "\n",
    "    validation_datagen = ImageDataGenerator(rescale=1.0 / 255)\n",
    "\n",
    "    train_generator = train_datagen.flow_from_directory(\n",
    "        train_data_dir,\n",
    "        target_size=(img_width, img_height),\n",
    "        color_mode='rgb',\n",
    "        classes=classes,\n",
    "        class_mode='categorical',\n",
    "        batch_size=batch_size,\n",
    "        shuffle=True)\n",
    "\n",
    "    validation_generator = validation_datagen.flow_from_directory(\n",
    "        validation_data_dir,\n",
    "        target_size=(img_width, img_height),\n",
    "        color_mode='rgb',\n",
    "        classes=classes,\n",
    "        class_mode='categorical',\n",
    "        batch_size=batch_size,\n",
    "        shuffle=True)\n",
    "\n",
    "    return (train_generator, validation_generator)"
   ]
  },
  {
   "cell_type": "code",
   "execution_count": 5,
   "metadata": {},
   "outputs": [],
   "source": [
    "result_dir = 'trainingResult'\n",
    "if not os.path.exists(result_dir):\n",
    "    os.mkdir(result_dir)"
   ]
  },
  {
   "cell_type": "code",
   "execution_count": 6,
   "metadata": {},
   "outputs": [
    {
     "name": "stdout",
     "output_type": "stream",
     "text": [
      "Found 700 images belonging to 7 classes.\n",
      "Found 210 images belonging to 7 classes.\n",
      "Epoch 1/60\n",
      "21/21 [==============================] - 40s 2s/step - loss: 1.9775 - accuracy: 0.1991 - val_loss: 2.0500 - val_accuracy: 0.1458\n",
      "Epoch 2/60\n",
      "21/21 [==============================] - 38s 2s/step - loss: 1.8201 - accuracy: 0.2710 - val_loss: 1.9172 - val_accuracy: 0.1798\n",
      "Epoch 3/60\n",
      "21/21 [==============================] - 38s 2s/step - loss: 1.7647 - accuracy: 0.2889 - val_loss: 2.0874 - val_accuracy: 0.2416\n",
      "Epoch 4/60\n",
      "21/21 [==============================] - 40s 2s/step - loss: 1.7017 - accuracy: 0.3383 - val_loss: 1.9478 - val_accuracy: 0.2022\n",
      "Epoch 5/60\n",
      "21/21 [==============================] - 41s 2s/step - loss: 1.6781 - accuracy: 0.3623 - val_loss: 2.3602 - val_accuracy: 0.2640\n",
      "Epoch 6/60\n",
      "21/21 [==============================] - 42s 2s/step - loss: 1.6601 - accuracy: 0.3548 - val_loss: 2.0182 - val_accuracy: 0.2809\n",
      "Epoch 7/60\n",
      "21/21 [==============================] - 42s 2s/step - loss: 1.6121 - accuracy: 0.3533 - val_loss: 2.0719 - val_accuracy: 0.3090\n",
      "Epoch 8/60\n",
      "21/21 [==============================] - 41s 2s/step - loss: 1.5560 - accuracy: 0.4152 - val_loss: 2.0126 - val_accuracy: 0.2812\n",
      "Epoch 9/60\n",
      "21/21 [==============================] - 38s 2s/step - loss: 1.5188 - accuracy: 0.4277 - val_loss: 1.9389 - val_accuracy: 0.2809\n",
      "Epoch 10/60\n",
      "21/21 [==============================] - 38s 2s/step - loss: 1.4820 - accuracy: 0.4479 - val_loss: 1.9504 - val_accuracy: 0.2697\n",
      "Epoch 11/60\n",
      "21/21 [==============================] - 39s 2s/step - loss: 1.4419 - accuracy: 0.4608 - val_loss: 2.1270 - val_accuracy: 0.3596\n",
      "Epoch 12/60\n",
      "21/21 [==============================] - 41s 2s/step - loss: 1.4783 - accuracy: 0.4461 - val_loss: 1.5956 - val_accuracy: 0.3876\n",
      "Epoch 13/60\n",
      "21/21 [==============================] - 42s 2s/step - loss: 1.4044 - accuracy: 0.4583 - val_loss: 2.0445 - val_accuracy: 0.3146\n",
      "Epoch 14/60\n",
      "21/21 [==============================] - 42s 2s/step - loss: 1.3685 - accuracy: 0.5075 - val_loss: 2.0010 - val_accuracy: 0.3652\n",
      "Epoch 15/60\n",
      "21/21 [==============================] - 42s 2s/step - loss: 1.3714 - accuracy: 0.4744 - val_loss: 2.0149 - val_accuracy: 0.3281\n",
      "Epoch 16/60\n",
      "21/21 [==============================] - 40s 2s/step - loss: 1.3458 - accuracy: 0.5119 - val_loss: 2.0464 - val_accuracy: 0.3315\n",
      "Epoch 17/60\n",
      "21/21 [==============================] - 38s 2s/step - loss: 1.2588 - accuracy: 0.5557 - val_loss: 2.0571 - val_accuracy: 0.3483\n",
      "Epoch 18/60\n",
      "21/21 [==============================] - 39s 2s/step - loss: 1.1951 - accuracy: 0.5674 - val_loss: 2.3979 - val_accuracy: 0.2921\n",
      "Epoch 19/60\n",
      "21/21 [==============================] - 41s 2s/step - loss: 1.2035 - accuracy: 0.5610 - val_loss: 1.4875 - val_accuracy: 0.4270\n",
      "Epoch 20/60\n",
      "21/21 [==============================] - 42s 2s/step - loss: 1.1896 - accuracy: 0.5449 - val_loss: 1.8537 - val_accuracy: 0.4045\n",
      "Epoch 21/60\n",
      "21/21 [==============================] - 42s 2s/step - loss: 1.0890 - accuracy: 0.6287 - val_loss: 1.2741 - val_accuracy: 0.4101\n",
      "Epoch 22/60\n",
      "21/21 [==============================] - 43s 2s/step - loss: 1.0478 - accuracy: 0.6257 - val_loss: 1.5220 - val_accuracy: 0.3542\n",
      "Epoch 23/60\n",
      "21/21 [==============================] - 40s 2s/step - loss: 1.0700 - accuracy: 0.6302 - val_loss: 2.6309 - val_accuracy: 0.4213\n",
      "Epoch 24/60\n",
      "21/21 [==============================] - 38s 2s/step - loss: 0.9832 - accuracy: 0.6497 - val_loss: 2.1483 - val_accuracy: 0.3933\n",
      "Epoch 25/60\n",
      "21/21 [==============================] - 38s 2s/step - loss: 0.9499 - accuracy: 0.6542 - val_loss: 1.5737 - val_accuracy: 0.4831\n",
      "Epoch 26/60\n",
      "21/21 [==============================] - 40s 2s/step - loss: 0.8930 - accuracy: 0.6841 - val_loss: 2.2093 - val_accuracy: 0.4101\n",
      "Epoch 27/60\n",
      "21/21 [==============================] - 42s 2s/step - loss: 0.8508 - accuracy: 0.7021 - val_loss: 2.5219 - val_accuracy: 0.4270\n",
      "Epoch 28/60\n",
      "21/21 [==============================] - 42s 2s/step - loss: 0.8393 - accuracy: 0.7260 - val_loss: 2.7951 - val_accuracy: 0.4551\n",
      "Epoch 29/60\n",
      "21/21 [==============================] - 42s 2s/step - loss: 0.8363 - accuracy: 0.7021 - val_loss: 1.7403 - val_accuracy: 0.4479\n",
      "Epoch 30/60\n",
      "21/21 [==============================] - 42s 2s/step - loss: 0.8020 - accuracy: 0.7365 - val_loss: 2.0130 - val_accuracy: 0.4326\n",
      "Epoch 31/60\n",
      "21/21 [==============================] - 39s 2s/step - loss: 0.7849 - accuracy: 0.7231 - val_loss: 1.8675 - val_accuracy: 0.4719\n",
      "Epoch 32/60\n",
      "21/21 [==============================] - 38s 2s/step - loss: 0.6946 - accuracy: 0.7560 - val_loss: 2.9299 - val_accuracy: 0.4101\n",
      "Epoch 33/60\n",
      "21/21 [==============================] - 40s 2s/step - loss: 0.6723 - accuracy: 0.7664 - val_loss: 2.0452 - val_accuracy: 0.5000\n",
      "Epoch 34/60\n",
      "21/21 [==============================] - 42s 2s/step - loss: 0.5742 - accuracy: 0.8174 - val_loss: 2.1780 - val_accuracy: 0.4213\n",
      "Epoch 35/60\n",
      "21/21 [==============================] - 42s 2s/step - loss: 0.6178 - accuracy: 0.8009 - val_loss: 1.9973 - val_accuracy: 0.4888\n",
      "Epoch 36/60\n",
      "21/21 [==============================] - 42s 2s/step - loss: 0.5251 - accuracy: 0.8129 - val_loss: 1.9121 - val_accuracy: 0.4531\n",
      "Epoch 37/60\n",
      "21/21 [==============================] - 41s 2s/step - loss: 0.5510 - accuracy: 0.8208 - val_loss: 2.5979 - val_accuracy: 0.4382\n",
      "Epoch 38/60\n",
      "21/21 [==============================] - 40s 2s/step - loss: 0.5627 - accuracy: 0.8006 - val_loss: 3.5227 - val_accuracy: 0.4551\n",
      "Epoch 39/60\n",
      "21/21 [==============================] - 38s 2s/step - loss: 0.6132 - accuracy: 0.7919 - val_loss: 3.6951 - val_accuracy: 0.4551\n",
      "Epoch 40/60\n",
      "21/21 [==============================] - 39s 2s/step - loss: 0.5279 - accuracy: 0.8249 - val_loss: 2.5706 - val_accuracy: 0.5056\n",
      "Epoch 41/60\n",
      "21/21 [==============================] - 40s 2s/step - loss: 0.4853 - accuracy: 0.8383 - val_loss: 2.7981 - val_accuracy: 0.4719\n",
      "Epoch 42/60\n",
      "21/21 [==============================] - 42s 2s/step - loss: 0.4111 - accuracy: 0.8668 - val_loss: 2.9986 - val_accuracy: 0.4775\n",
      "Epoch 43/60\n",
      "21/21 [==============================] - 42s 2s/step - loss: 0.4197 - accuracy: 0.8548 - val_loss: 2.1702 - val_accuracy: 0.4792\n",
      "Epoch 44/60\n",
      "21/21 [==============================] - 42s 2s/step - loss: 0.3420 - accuracy: 0.8892 - val_loss: 3.2624 - val_accuracy: 0.4438\n",
      "Epoch 45/60\n",
      "21/21 [==============================] - 41s 2s/step - loss: 0.3517 - accuracy: 0.8839 - val_loss: 3.0761 - val_accuracy: 0.5337\n",
      "Epoch 46/60\n",
      "21/21 [==============================] - 38s 2s/step - loss: 0.3387 - accuracy: 0.8870 - val_loss: 2.5901 - val_accuracy: 0.4438\n",
      "Epoch 47/60\n",
      "21/21 [==============================] - 38s 2s/step - loss: 0.3051 - accuracy: 0.9102 - val_loss: 2.6386 - val_accuracy: 0.4775\n",
      "Epoch 48/60\n",
      "21/21 [==============================] - 39s 2s/step - loss: 0.2643 - accuracy: 0.9237 - val_loss: 2.3209 - val_accuracy: 0.4607\n",
      "Epoch 49/60\n",
      "21/21 [==============================] - 41s 2s/step - loss: 0.3362 - accuracy: 0.8937 - val_loss: 2.8492 - val_accuracy: 0.4551\n",
      "Epoch 50/60\n",
      "21/21 [==============================] - 42s 2s/step - loss: 0.3049 - accuracy: 0.8952 - val_loss: 2.9629 - val_accuracy: 0.4688\n",
      "Epoch 51/60\n",
      "21/21 [==============================] - 41s 2s/step - loss: 0.3219 - accuracy: 0.9003 - val_loss: 1.8775 - val_accuracy: 0.5056\n",
      "Epoch 52/60\n",
      "21/21 [==============================] - 41s 2s/step - loss: 0.3137 - accuracy: 0.8997 - val_loss: 3.1932 - val_accuracy: 0.4438\n",
      "Epoch 53/60\n",
      "21/21 [==============================] - 39s 2s/step - loss: 0.3196 - accuracy: 0.8961 - val_loss: 3.0457 - val_accuracy: 0.5056\n",
      "Epoch 54/60\n",
      "21/21 [==============================] - 38s 2s/step - loss: 0.2394 - accuracy: 0.9371 - val_loss: 3.3510 - val_accuracy: 0.4663\n",
      "Epoch 55/60\n",
      "21/21 [==============================] - 39s 2s/step - loss: 0.2293 - accuracy: 0.9375 - val_loss: 2.9704 - val_accuracy: 0.5112\n",
      "Epoch 56/60\n",
      "21/21 [==============================] - 40s 2s/step - loss: 0.2757 - accuracy: 0.9051 - val_loss: 3.3968 - val_accuracy: 0.4663\n",
      "Epoch 57/60\n",
      "21/21 [==============================] - 42s 2s/step - loss: 0.3044 - accuracy: 0.9048 - val_loss: 2.8526 - val_accuracy: 0.4688\n",
      "Epoch 58/60\n"
     ]
    },
    {
     "name": "stdout",
     "output_type": "stream",
     "text": [
      "21/21 [==============================] - 41s 2s/step - loss: 0.2159 - accuracy: 0.9371 - val_loss: 4.7737 - val_accuracy: 0.4775\n",
      "Epoch 59/60\n",
      "21/21 [==============================] - 41s 2s/step - loss: 0.1659 - accuracy: 0.9521 - val_loss: 2.5894 - val_accuracy: 0.5056\n",
      "Epoch 60/60\n",
      "21/21 [==============================] - 40s 2s/step - loss: 0.1491 - accuracy: 0.9596 - val_loss: 2.4609 - val_accuracy: 0.4551\n"
     ]
    }
   ],
   "source": [
    "# モデル作成\n",
    "vgg_model = vgg_model_maker()\n",
    "\n",
    "# 最後のconv層の直前までの層をfreeze\n",
    "for layer in vgg_model.layers[:15]:\n",
    "    layer.trainable = False\n",
    "\n",
    "# 多クラス分類を指定\n",
    "vgg_model.compile(loss='categorical_crossentropy',\n",
    "                  optimizer=optimizers.SGD(lr=1e-3, momentum=0.9),\n",
    "                metrics=['accuracy'])\n",
    "\n",
    "# 画像のジェネレータ生成\n",
    "train_generator, validation_generator = image_generator()\n",
    "\n",
    "# Fine-tuning\n",
    "\n",
    "history = vgg_model.fit_generator(\n",
    "    train_generator,\n",
    "    steps_per_epoch=int(nb_train_samples/batch_size),\n",
    "    epochs=nb_epoch,\n",
    "    validation_data=validation_generator,\n",
    "    validation_steps=int(nb_validation_samples/batch_size)\n",
    ")\n",
    "\n",
    "vgg_model.save_weights(os.path.join(result_dir, 'finetuning-60.h5'))"
   ]
  },
  {
   "cell_type": "code",
   "execution_count": 7,
   "metadata": {},
   "outputs": [
    {
     "data": {
      "image/png": "[encoded data removed]",
      "text/plain": [
       "<Figure size 432x288 with 1 Axes>"
      ]
     },
     "metadata": {
      "needs_background": "light"
     },
     "output_type": "display_data"
    }
   ],
   "source": [
    "import matplotlib.pyplot as plt\n",
    "loss     = history.history['loss']\n",
    "val_loss = history.history['val_loss']\n",
    "\n",
    "nb_epoch = len(loss)\n",
    "plt.plot(range(nb_epoch), loss,     marker='.', label='loss')\n",
    "plt.plot(range(nb_epoch), val_loss, marker='.', label='val_loss')\n",
    "plt.legend(loc='best', fontsize=10)\n",
    "plt.grid()\n",
    "plt.xlabel('epoch')\n",
    "plt.ylabel('loss')\n",
    "plt.show()"
   ]
  },
  {
   "cell_type": "code",
   "execution_count": 8,
   "metadata": {},
   "outputs": [
    {
     "data": {
      "image/png": "[encoded data removed]",
      "text/plain": [
       "<Figure size 432x288 with 1 Axes>"
      ]
     },
     "metadata": {
      "needs_background": "light"
     },
     "output_type": "display_data"
    }
   ],
   "source": [
    "loss     = history.history['accuracy']\n",
    "val_loss = history.history['val_accuracy']\n",
    "\n",
    "nb_epoch = len(loss)\n",
    "plt.plot(range(nb_epoch), loss,     marker='.', label='accuracy')\n",
    "plt.plot(range(nb_epoch), val_loss, marker='.', label='val_accuracy')\n",
    "plt.legend(loc='best', fontsize=10)\n",
    "plt.grid()\n",
    "plt.xlabel('epoch')\n",
    "plt.ylabel('accuracy')\n",
    "plt.show()"
   ]
  }
 ],
 "metadata": {
  "kernelspec": {
   "display_name": "Python 3",
   "language": "python",
   "name": "python3"
  },
  "language_info": {
   "codemirror_mode": {
    "name": "ipython",
    "version": 3
   },
   "file_extension": ".py",
   "mimetype": "text/x-python",
   "name": "python",
   "nbconvert_exporter": "python",
   "pygments_lexer": "ipython3",
   "version": "3.7.9"
  }
 },
 "nbformat": 4,
 "nbformat_minor": 4
}
