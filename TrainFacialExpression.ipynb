{
 "cells": [
  {
   "cell_type": "code",
   "execution_count": 1,
   "metadata": {},
   "outputs": [
    {
     "name": "stderr",
     "output_type": "stream",
     "text": [
      "Using TensorFlow backend.\n"
     ]
    }
   ],
   "source": [
    "import os\n",
    "from keras.applications.vgg16 import VGG16\n",
    "from keras.preprocessing.image import ImageDataGenerator\n",
    "from keras.models import Sequential, Model\n",
    "from keras.layers import Input, Activation, Dropout, Flatten, Dense\n",
    "from keras.preprocessing.image import ImageDataGenerator\n",
    "from keras import optimizers\n",
    "import numpy as np\n",
    "\n",
    "os.environ['KMP_DUPLICATE_LIB_OK']='TRUE'\n",
    "os.environ[\"CUDA_VISIBLE_DEVICES\"]=\"0\""
   ]
  },
  {
   "cell_type": "code",
   "execution_count": 2,
   "metadata": {},
   "outputs": [],
   "source": [
    "# 分類するクラス\n",
    "classes = ['angry', 'disgust', 'fear', 'happy', 'neutral', 'sad', 'surprise']\n",
    "\n",
    "nb_classes = len(classes)\n",
    "\n",
    "img_width, img_height = 48, 48\n",
    "\n",
    "# トレーニング用とバリデーション用の画像格納先\n",
    "train_data_dir = './data2/train'\n",
    "validation_data_dir = './data2/validation'\n",
    "\n",
    "\n",
    "nb_train_samples = 2100\n",
    "nb_validation_samples = 210\n",
    "\n",
    "batch_size = 32\n",
    "nb_epoch = 50"
   ]
  },
  {
   "cell_type": "code",
   "execution_count": 3,
   "metadata": {},
   "outputs": [],
   "source": [
    "def vgg_model_maker():\n",
    "    \"\"\" VGG16のモデルをFC層以外使用。FC層のみ作成して結合して用意する \"\"\"\n",
    "\n",
    "    # VGG16のロード。FC層は不要なので include_top=False\n",
    "    input_tensor = Input(shape=(img_width, img_height, 3))\n",
    "    vgg16 = VGG16(include_top=False, weights='imagenet', input_tensor=input_tensor)\n",
    "\n",
    "    # FC層の作成\n",
    "    top_model = Sequential()\n",
    "    top_model.add(Flatten(input_shape=vgg16.output_shape[1:]))\n",
    "    top_model.add(Dense(256, activation='relu'))\n",
    "    top_model.add(Dropout(0.5))\n",
    "    top_model.add(Dense(nb_classes, activation='softmax'))\n",
    "\n",
    "    # VGG16とFC層を結合してモデルを作成\n",
    "    model = Model(inputs=vgg16.input, outputs=top_model(vgg16.output))\n",
    "\n",
    "    return model"
   ]
  },
  {
   "cell_type": "code",
   "execution_count": 4,
   "metadata": {},
   "outputs": [],
   "source": [
    "def image_generator():\n",
    "    \"\"\" ディレクトリ内の画像を読み込んでトレーニングデータとバリデーションデータの作成 \"\"\"\n",
    "    train_datagen = ImageDataGenerator(\n",
    "        rescale=1.0 / 255,\n",
    "        zoom_range=0.2,\n",
    "        horizontal_flip=True)\n",
    "\n",
    "    validation_datagen = ImageDataGenerator(rescale=1.0 / 255)\n",
    "\n",
    "    train_generator = train_datagen.flow_from_directory(\n",
    "        train_data_dir,\n",
    "        target_size=(img_width, img_height),\n",
    "        color_mode='rgb',\n",
    "        classes=classes,\n",
    "        class_mode='categorical',\n",
    "        batch_size=batch_size,\n",
    "        shuffle=True)\n",
    "\n",
    "    validation_generator = validation_datagen.flow_from_directory(\n",
    "        validation_data_dir,\n",
    "        target_size=(img_width, img_height),\n",
    "        color_mode='rgb',\n",
    "        classes=classes,\n",
    "        class_mode='categorical',\n",
    "        batch_size=batch_size,\n",
    "        shuffle=True)\n",
    "\n",
    "    return (train_generator, validation_generator)"
   ]
  },
  {
   "cell_type": "code",
   "execution_count": 5,
   "metadata": {},
   "outputs": [],
   "source": [
    "result_dir = 'trainingResult'\n",
    "if not os.path.exists(result_dir):\n",
    "    os.mkdir(result_dir)"
   ]
  },
  {
   "cell_type": "code",
   "execution_count": 6,
   "metadata": {},
   "outputs": [
    {
     "name": "stdout",
     "output_type": "stream",
     "text": [
      "Found 2100 images belonging to 7 classes.\n",
      "Found 210 images belonging to 7 classes.\n",
      "Epoch 1/50\n",
      "65/65 [==============================] - 104s 2s/step - loss: 2.0048 - accuracy: 0.1683 - val_loss: 1.8724 - val_accuracy: 0.2135\n",
      "Epoch 2/50\n",
      "65/65 [==============================] - 104s 2s/step - loss: 1.9076 - accuracy: 0.2041 - val_loss: 1.9290 - val_accuracy: 0.2472\n",
      "Epoch 3/50\n",
      "65/65 [==============================] - 103s 2s/step - loss: 1.8570 - accuracy: 0.2268 - val_loss: 1.8708 - val_accuracy: 0.2697\n",
      "Epoch 4/50\n",
      "65/65 [==============================] - 103s 2s/step - loss: 1.8225 - accuracy: 0.2495 - val_loss: 1.8125 - val_accuracy: 0.2865\n",
      "Epoch 5/50\n",
      "65/65 [==============================] - 103s 2s/step - loss: 1.8005 - accuracy: 0.2708 - val_loss: 1.7958 - val_accuracy: 0.2865\n",
      "Epoch 6/50\n",
      "65/65 [==============================] - 103s 2s/step - loss: 1.7737 - accuracy: 0.2935 - val_loss: 1.8052 - val_accuracy: 0.2809\n",
      "Epoch 7/50\n",
      "65/65 [==============================] - 103s 2s/step - loss: 1.7495 - accuracy: 0.2993 - val_loss: 1.7614 - val_accuracy: 0.3090\n",
      "Epoch 8/50\n",
      "65/65 [==============================] - 104s 2s/step - loss: 1.7025 - accuracy: 0.3346 - val_loss: 1.6640 - val_accuracy: 0.3490\n",
      "Epoch 9/50\n",
      "65/65 [==============================] - 103s 2s/step - loss: 1.6923 - accuracy: 0.3366 - val_loss: 1.7055 - val_accuracy: 0.3596\n",
      "Epoch 10/50\n",
      "65/65 [==============================] - 103s 2s/step - loss: 1.6326 - accuracy: 0.3615 - val_loss: 1.3658 - val_accuracy: 0.3989\n",
      "Epoch 11/50\n",
      "65/65 [==============================] - 134s 2s/step - loss: 1.6455 - accuracy: 0.3487 - val_loss: 1.5452 - val_accuracy: 0.4213\n",
      "Epoch 12/50\n",
      "65/65 [==============================] - 104s 2s/step - loss: 1.5902 - accuracy: 0.3774 - val_loss: 1.4918 - val_accuracy: 0.4831\n",
      "Epoch 13/50\n",
      "65/65 [==============================] - 102s 2s/step - loss: 1.5938 - accuracy: 0.3862 - val_loss: 1.6708 - val_accuracy: 0.3539\n",
      "Epoch 14/50\n",
      "65/65 [==============================] - 103s 2s/step - loss: 1.5687 - accuracy: 0.3951 - val_loss: 1.8346 - val_accuracy: 0.5056\n",
      "Epoch 15/50\n",
      "65/65 [==============================] - 103s 2s/step - loss: 1.5219 - accuracy: 0.4221 - val_loss: 1.4718 - val_accuracy: 0.4792\n",
      "Epoch 16/50\n",
      "65/65 [==============================] - 103s 2s/step - loss: 1.4914 - accuracy: 0.4367 - val_loss: 1.3834 - val_accuracy: 0.4944\n",
      "Epoch 17/50\n",
      "65/65 [==============================] - 104s 2s/step - loss: 1.4605 - accuracy: 0.4500 - val_loss: 1.3126 - val_accuracy: 0.4831\n",
      "Epoch 18/50\n",
      "65/65 [==============================] - 103s 2s/step - loss: 1.4319 - accuracy: 0.4480 - val_loss: 1.3423 - val_accuracy: 0.4944\n",
      "Epoch 19/50\n",
      "65/65 [==============================] - 104s 2s/step - loss: 1.3522 - accuracy: 0.4885 - val_loss: 1.3225 - val_accuracy: 0.5337\n",
      "Epoch 20/50\n",
      "65/65 [==============================] - 103s 2s/step - loss: 1.3683 - accuracy: 0.4835 - val_loss: 1.1798 - val_accuracy: 0.5674\n",
      "Epoch 21/50\n",
      "65/65 [==============================] - 103s 2s/step - loss: 1.3433 - accuracy: 0.5024 - val_loss: 1.3099 - val_accuracy: 0.5730\n",
      "Epoch 22/50\n",
      "65/65 [==============================] - 104s 2s/step - loss: 1.3092 - accuracy: 0.5102 - val_loss: 1.3190 - val_accuracy: 0.5208\n",
      "Epoch 23/50\n",
      "65/65 [==============================] - 1523s 23s/step - loss: 1.2591 - accuracy: 0.5343 - val_loss: 1.0172 - val_accuracy: 0.6124\n",
      "Epoch 24/50\n",
      "65/65 [==============================] - 103s 2s/step - loss: 1.2412 - accuracy: 0.5343 - val_loss: 1.0238 - val_accuracy: 0.5056\n",
      "Epoch 25/50\n",
      "65/65 [==============================] - 103s 2s/step - loss: 1.1864 - accuracy: 0.5672 - val_loss: 1.1139 - val_accuracy: 0.6966\n",
      "Epoch 26/50\n",
      "65/65 [==============================] - 104s 2s/step - loss: 1.1778 - accuracy: 0.5644 - val_loss: 0.9307 - val_accuracy: 0.6124\n",
      "Epoch 27/50\n",
      "65/65 [==============================] - 102s 2s/step - loss: 1.1310 - accuracy: 0.5880 - val_loss: 0.9328 - val_accuracy: 0.6348\n",
      "Epoch 28/50\n",
      "65/65 [==============================] - 103s 2s/step - loss: 1.0258 - accuracy: 0.6248 - val_loss: 0.9599 - val_accuracy: 0.7191\n",
      "Epoch 29/50\n",
      "65/65 [==============================] - 106s 2s/step - loss: 1.0546 - accuracy: 0.6308 - val_loss: 0.5928 - val_accuracy: 0.7344\n",
      "Epoch 30/50\n",
      "65/65 [==============================] - 105s 2s/step - loss: 0.9996 - accuracy: 0.6347 - val_loss: 0.7292 - val_accuracy: 0.7809\n",
      "Epoch 31/50\n",
      "65/65 [==============================] - 103s 2s/step - loss: 0.9420 - accuracy: 0.6610 - val_loss: 1.0125 - val_accuracy: 0.7022\n",
      "Epoch 32/50\n",
      "65/65 [==============================] - 814s 13s/step - loss: 0.9433 - accuracy: 0.6524 - val_loss: 0.6221 - val_accuracy: 0.7921\n",
      "Epoch 33/50\n",
      "65/65 [==============================] - 107s 2s/step - loss: 0.8863 - accuracy: 0.6862 - val_loss: 0.5307 - val_accuracy: 0.7921\n",
      "Epoch 34/50\n",
      "65/65 [==============================] - 106s 2s/step - loss: 0.8533 - accuracy: 0.6863 - val_loss: 0.6669 - val_accuracy: 0.8371\n",
      "Epoch 35/50\n",
      "65/65 [==============================] - 110s 2s/step - loss: 0.8262 - accuracy: 0.7074 - val_loss: 0.5849 - val_accuracy: 0.7584\n",
      "Epoch 36/50\n",
      "65/65 [==============================] - 108s 2s/step - loss: 0.7804 - accuracy: 0.7263 - val_loss: 0.8547 - val_accuracy: 0.7292\n",
      "Epoch 37/50\n",
      "65/65 [==============================] - 106s 2s/step - loss: 0.7420 - accuracy: 0.7447 - val_loss: 0.5859 - val_accuracy: 0.8708\n",
      "Epoch 38/50\n",
      "65/65 [==============================] - 113s 2s/step - loss: 0.7189 - accuracy: 0.7495 - val_loss: 0.5477 - val_accuracy: 0.8764\n",
      "Epoch 39/50\n",
      "65/65 [==============================] - 108s 2s/step - loss: 0.6921 - accuracy: 0.7500 - val_loss: 0.2378 - val_accuracy: 0.8820\n",
      "Epoch 40/50\n",
      "65/65 [==============================] - 110s 2s/step - loss: 0.6712 - accuracy: 0.7596 - val_loss: 0.3939 - val_accuracy: 0.9157\n",
      "Epoch 41/50\n",
      "65/65 [==============================] - 113s 2s/step - loss: 0.7151 - accuracy: 0.7393 - val_loss: 0.6062 - val_accuracy: 0.8539\n",
      "Epoch 42/50\n",
      "65/65 [==============================] - 106s 2s/step - loss: 0.5635 - accuracy: 0.8058 - val_loss: 0.2920 - val_accuracy: 0.9213\n",
      "Epoch 43/50\n",
      "65/65 [==============================] - 114s 2s/step - loss: 0.5931 - accuracy: 0.7882 - val_loss: 0.2966 - val_accuracy: 0.8802\n",
      "Epoch 44/50\n",
      "65/65 [==============================] - 112s 2s/step - loss: 0.5842 - accuracy: 0.8022 - val_loss: 0.2942 - val_accuracy: 0.8764\n",
      "Epoch 45/50\n",
      "65/65 [==============================] - 107s 2s/step - loss: 0.4661 - accuracy: 0.8428 - val_loss: 0.2807 - val_accuracy: 0.9213\n",
      "Epoch 46/50\n",
      "65/65 [==============================] - 115s 2s/step - loss: 0.4579 - accuracy: 0.8380 - val_loss: 0.3383 - val_accuracy: 0.9045\n",
      "Epoch 47/50\n",
      "65/65 [==============================] - 111s 2s/step - loss: 0.4439 - accuracy: 0.8496 - val_loss: 0.4053 - val_accuracy: 0.9270\n",
      "Epoch 48/50\n",
      "65/65 [==============================] - 111s 2s/step - loss: 0.3958 - accuracy: 0.8643 - val_loss: 0.2756 - val_accuracy: 0.9382\n",
      "Epoch 49/50\n",
      "65/65 [==============================] - 116s 2s/step - loss: 0.4140 - accuracy: 0.8567 - val_loss: 0.2430 - val_accuracy: 0.9270\n",
      "Epoch 50/50\n",
      "65/65 [==============================] - 107s 2s/step - loss: 0.4089 - accuracy: 0.8677 - val_loss: 0.1853 - val_accuracy: 0.9375\n"
     ]
    }
   ],
   "source": [
    "# モデル作成\n",
    "vgg_model = vgg_model_maker()\n",
    "\n",
    "# 最後のconv層の直前までの層をfreeze\n",
    "for layer in vgg_model.layers[:15]:\n",
    "    layer.trainable = False\n",
    "\n",
    "# 多クラス分類を指定\n",
    "vgg_model.compile(loss='categorical_crossentropy',\n",
    "                  optimizer=optimizers.SGD(lr=1e-3, momentum=0.9),\n",
    "                metrics=['accuracy'])\n",
    "\n",
    "# 画像のジェネレータ生成\n",
    "train_generator, validation_generator = image_generator()\n",
    "\n",
    "# Fine-tuning\n",
    "\n",
    "history = vgg_model.fit_generator(\n",
    "    train_generator,\n",
    "    steps_per_epoch=int(nb_train_samples/batch_size),\n",
    "    epochs=nb_epoch,\n",
    "    validation_data=validation_generator,\n",
    "    validation_steps=int(nb_validation_samples/batch_size)\n",
    ")\n",
    "\n",
    "vgg_model.save_weights(os.path.join(result_dir, 'finetuning-60-2.h5'))"
   ]
  },
  {
   "cell_type": "code",
   "execution_count": 7,
   "metadata": {},
   "outputs": [
    {
     "data": {
      "image/png": "[encoded data removed]",
      "text/plain": [
       "<Figure size 432x288 with 1 Axes>"
      ]
     },
     "metadata": {
      "needs_background": "light"
     },
     "output_type": "display_data"
    }
   ],
   "source": [
    "import matplotlib.pyplot as plt\n",
    "loss     = history.history['loss']\n",
    "val_loss = history.history['val_loss']\n",
    "\n",
    "nb_epoch = len(loss)\n",
    "plt.plot(range(nb_epoch), loss,     marker='.', label='loss')\n",
    "plt.plot(range(nb_epoch), val_loss, marker='.', label='val_loss')\n",
    "plt.legend(loc='best', fontsize=10)\n",
    "plt.grid()\n",
    "plt.xlabel('epoch')\n",
    "plt.ylabel('loss')\n",
    "plt.show()"
   ]
  },
  {
   "cell_type": "code",
   "execution_count": 8,
   "metadata": {},
   "outputs": [
    {
     "data": {
      "image/png": "[encoded data removed]",
      "text/plain": [
       "<Figure size 432x288 with 1 Axes>"
      ]
     },
     "metadata": {
      "needs_background": "light"
     },
     "output_type": "display_data"
    }
   ],
   "source": [
    "loss     = history.history['accuracy']\n",
    "val_loss = history.history['val_accuracy']\n",
    "\n",
    "nb_epoch = len(loss)\n",
    "plt.plot(range(nb_epoch), loss,     marker='.', label='accuracy')\n",
    "plt.plot(range(nb_epoch), val_loss, marker='.', label='val_accuracy')\n",
    "plt.legend(loc='best', fontsize=10)\n",
    "plt.grid()\n",
    "plt.xlabel('epoch')\n",
    "plt.ylabel('accuracy')\n",
    "plt.show()"
   ]
  }
 ],
 "metadata": {
  "kernelspec": {
   "display_name": "Python 3",
   "language": "python",
   "name": "python3"
  },
  "language_info": {
   "codemirror_mode": {
    "name": "ipython",
    "version": 3
   },
   "file_extension": ".py",
   "mimetype": "text/x-python",
   "name": "python",
   "nbconvert_exporter": "python",
   "pygments_lexer": "ipython3",
   "version": "3.7.9"
  }
 },
 "nbformat": 4,
 "nbformat_minor": 4
}
